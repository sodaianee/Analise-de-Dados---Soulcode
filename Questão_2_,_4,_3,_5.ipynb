{
  "cells": [
    {
      "cell_type": "markdown",
      "metadata": {
        "id": "view-in-github",
        "colab_type": "text"
      },
      "source": [
        "<a href=\"https://colab.research.google.com/github/sodaianee/Analise-de-Dados---Soulcode/blob/main/Quest%C3%A3o_2_%2C_4%2C_3%2C_5.ipynb\" target=\"_parent\"><img src=\"https://colab.research.google.com/assets/colab-badge.svg\" alt=\"Open In Colab\"/></a>"
      ]
    },
    {
      "cell_type": "markdown",
      "metadata": {
        "id": "7C5gJbuy0An-"
      },
      "source": [
        "\n",
        "Um restaurante deseja avaliar a performance de seus garçons com base na gorjeta recebida em relação ao valor total das contas dos clientes. Para isso, o restaurante irá coletar informações sobre o valor total da compra de cada cliente e a gorjeta deixada para o garçom. Se a porcentagem média de gorjeta recebida por um garçom estiver acima de [valor a ser decidido pelo programador] do valor total da conta, ele será considerado como tendo uma boa performance. Caso contrário, será necessário realizar treinamentos ou ajustes na abordagem de atendimento do garçom. Essa avaliação de performance é importante para garantir um serviço de qualidade e garantir a satisfação dos clientes do restaurante.\n",
        "\n"
      ]
    },
    {
      "cell_type": "code",
      "execution_count": null,
      "metadata": {
        "id": "qOGdf8nICOYd"
      },
      "outputs": [],
      "source": [
        "#Questão 2 - Restaurante\n",
        "#Colhendo informação sobre os valores da conta e valor da gorjeta recebida\n",
        "valor_total = float(input('Valor total da conta do cliente: '))\n",
        "valor_gorjeta = float (input('Valor da gorjeta para o Garçon: '))\n",
        "\n",
        "#porcentagem média de gorjeta recebida por um garçom em relação ao valor total\n",
        "porc_gorjeta = (valor_gorjeta / valor_total) * 100\n",
        "\n",
        "#valor aderido para calcular a performace do garçom\n",
        "ade_gorjeta = 8  #porcentagem 8%\n",
        "\n",
        "#Resultado da performace do graçom\n",
        "if porc_gorjeta > ade_gorjeta :\n",
        "    print('Garçon teve um ótimo atendimento.')\n",
        "else:\n",
        "    print('Garçon deve realizar ajuste em seu atendimento.')"
      ]
    },
    {
      "cell_type": "markdown",
      "metadata": {
        "id": "s_ApILG0QVNp"
      },
      "source": [
        "Um aplicativo de compras online deseja implementar uma função de decisão de compra para seus usuários. Ao realizar uma compra, os usuários precisam saber se possuem saldo suficiente em sua conta bancária para comprar um determinado produto. Se o saldo disponível na conta bancária do usuário for maior ou igual ao preço do produto, ele poderá efetuar a compra. Caso contrário, o usuário receberá uma mensagem informando que não possui saldo suficiente para realizar a compra. O aplicativo precisa implementar essa funcionalidade para garantir uma experiência de compra tranquila e transparente para seus usuários."
      ]
    },
    {
      "cell_type": "code",
      "execution_count": null,
      "metadata": {
        "colab": {
          "background_save": true,
          "base_uri": "https://localhost:8080/"
        },
        "id": "Z8JM_q0tQXEB",
        "outputId": "ed51be6c-873d-4536-9760-28caf25997f3"
      },
      "outputs": [
        {
          "name": "stdout",
          "output_type": "stream",
          "text": [
            "Seu saldo na conta é de: 500.00\n"
          ]
        }
      ],
      "source": [
        "#Questão 3 - Aplicativo de compras\n",
        "#Saldo deduzido disponível na conta do cliente.\n",
        "saldo = 500\n",
        "\n",
        "#Imprimindo o valor disponivel na conta\n",
        "print (f'Seu saldo na conta é de: {saldo:.2f}')\n",
        "\n",
        "#Coletando valor do produto que deseja comprar.\n",
        "produto = float(input('Valor do Produto: '))\n",
        "\n",
        " #Se o saldo disponível na conta bancária do usuário for maior ou igual ao preço do produto, ele poderá efetuar a compra.\n",
        " #Caso não tenha saldo, será imprimido uma mensagem de aviso.\n",
        "\n",
        "if saldo >= produto:\n",
        "    print('Compra efetuada com sucesso!')\n",
        "else:\n",
        "    print('Saldo Insuficiente para finalizar a compra.')"
      ]
    },
    {
      "cell_type": "markdown",
      "source": [
        "Uma assistente do banco precisa de um programa que verifica se um cliente é elegível para um empréstimo com base na sua idade (entre 18 e 65 anos), renda mensal mínima de R$ 1.500,00 e histórico de crédito sem registros de inadimplência nos últimos 12 meses. O programa irá coletar as informações do cliente e, caso ele atenda a todos os critérios, será considerado elegível para o empréstimo; caso contrário, será informado que o cliente não é elegível. Essa verificação é essencial para garantir que apenas clientes adequados sejam aprovados para empréstimos, minimizando riscos para o banco e para o cliente."
      ],
      "metadata": {
        "id": "qzpPA7pP-C0R"
      }
    },
    {
      "cell_type": "code",
      "source": [
        "# Questão 4: Colhendo dados do Cliente para saber se é elegivel para emprestimos\n",
        "\n",
        "idade = int(input('Qual a sua idade: '))\n",
        "renda = float(input('Sua é sua renda mínima mensal: '))\n",
        "historico = str(input('Tem inadiplência nos últimos 12 meses? Responda com Sim ou Não: '))\n",
        "\n",
        "#caso o cliente não tenha idade, renda ou historico adequado, cliente não será elegível\n",
        "# Verificando se o cliente tem idade entre 18 a 65 anos.\n",
        "# Se a renda do cliente é de valor mínino 1.500.\n",
        "# e seu historico de credito nos últimos 12 meses\n",
        "\n",
        "if idade >=18 and idade <= 65 and renda >= 1.500 and historico == 'não':\n",
        " #Imprimindo se o cliente está aprovado.\n",
        "    print('Cliente APROVADO para fazer empréstimo')\n",
        "\n",
        "# Imprimindo se o cliente for REPROVADO nos dados.\n",
        "else :\n",
        "    print(' Cliente não está elegivel. Foi REPROVADO para empréstimos')\n",
        "\n",
        "\n",
        "\n"
      ],
      "metadata": {
        "id": "KAL-MC3D-CFx"
      },
      "execution_count": null,
      "outputs": []
    },
    {
      "cell_type": "markdown",
      "metadata": {
        "id": "5MnwLPghynF6"
      },
      "source": [
        "Simulação de Venda:\n",
        "(a) Crie um programa que simula a venda de um produto. O programa deve:\n",
        "Coletar informações do usuário: nome do cliente, nome do produto,\n",
        "preço do produto e quantidade desejada.\n",
        "Calcular o valor total da compra: multiplicar o preço do produto\n",
        "pela quantidade desejada.\n",
        "Exibir o valor total da compra para o usuário.\n",
        "(b) Adicione um desconto de 10% para compras acima de R$ 100,00.\n",
        "(c) Implemente a opção de pagamento com cartão de crédito ou dinheiro."
      ]
    },
    {
      "cell_type": "code",
      "execution_count": null,
      "metadata": {
        "id": "YzbqjQKexZp7",
        "colab": {
          "base_uri": "https://localhost:8080/"
        },
        "outputId": "585b11f5-3247-4177-8562-f359dde4ed20"
      },
      "outputs": [
        {
          "output_type": "stream",
          "name": "stdout",
          "text": [
            "Informe o seu nome: daiane\n",
            "Nome do produto: lapis\n",
            "Valor do Produto: 12.00\n",
            "Quantidade que deseja do produto: 3\n",
            "Valor total da Compra: 36.00\n",
            "Valor final com desconto: 32.40\n"
          ]
        }
      ],
      "source": [
        "#Questão 5 - Simulação de venda.\n",
        "\n",
        "#Coletando infomação do cliente e do produto\n",
        "nome = input('Informe o seu nome: ')\n",
        "produto = input('Nome do produto: ')\n",
        "preco = float(input('Valor do Produto: '))\n",
        "quant = int(input('Quantidade que deseja do produto: '))\n",
        "\n",
        "#calculo para saber o valor total da compra.\n",
        "valor_t = preco * quant\n",
        "#imprimindo o valor final da compra sem desconto\n",
        "print(f'Valor total da Compra: {valor_t:.2f}',)\n",
        "\n",
        "#Implementando o desconto de 10% para valores acima de 100 reais\n",
        "valor_desc =  valor_t * 0.1\n",
        "#valor final com descondo\n",
        "valor_final = valor_t - valor_desc\n",
        "\n",
        "if valor_final >= 100:\n",
        "    print(f'Valor do desconto de 10%: {valor_desc:.2f}')\n",
        "elif valor_t < 100:\n",
        "    print(f'Valor final com desconto: {valor_final:.2f}' )\n",
        "else:\n",
        "    print (f'Valor sem desconto: {valor_t:.2f}')\n",
        "    print('Pagamento com cartão de crédito ou dinheiro?')\n"
      ]
    }
  ],
  "metadata": {
    "colab": {
      "provenance": [],
      "authorship_tag": "ABX9TyMdcRug8PeejBnq1AhsEG5z",
      "include_colab_link": true
    },
    "kernelspec": {
      "display_name": "Python 3",
      "name": "python3"
    },
    "language_info": {
      "name": "python"
    }
  },
  "nbformat": 4,
  "nbformat_minor": 0
}