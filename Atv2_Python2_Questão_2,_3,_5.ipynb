{
  "cells": [
    {
      "cell_type": "markdown",
      "metadata": {
        "id": "view-in-github",
        "colab_type": "text"
      },
      "source": [
        "<a href=\"https://colab.research.google.com/github/sodaianee/Analise-de-Dados---Soulcode/blob/main/Atv2_Python2_Quest%C3%A3o_2%2C_3%2C_5.ipynb\" target=\"_parent\"><img src=\"https://colab.research.google.com/assets/colab-badge.svg\" alt=\"Open In Colab\"/></a>"
      ]
    },
    {
      "cell_type": "markdown",
      "metadata": {
        "id": "0iOTQJLM8FN4"
      },
      "source": [
        "## **Introdução a Python**\n",
        "Escola: SoulCode Academy\n",
        "\n",
        "Curso: Analista de Dados e Dashboards\n",
        "\n",
        "Período: Noturno\n",
        "\n",
        "Assunto: Introdução a Python\n",
        "\n",
        "Professor: Franciane Rodrigues\n",
        "\n",
        "Aluna: Daiane Oliveira"
      ]
    },
    {
      "cell_type": "markdown",
      "metadata": {
        "id": "BAaJ1bfv-T0t"
      },
      "source": [
        "Questão 3 -Enunciado:\n",
        "* Uma empresa deseja manter um registro de seus clientes.\n",
        "* Incluindo nome, idade e e-mail.\n",
        "* Permita ao usuário adicionar novos clientes ao registro.\n",
        "* Exiba todos os clientes registrados."
      ]
    },
    {
      "cell_type": "code",
      "execution_count": null,
      "metadata": {
        "colab": {
          "base_uri": "https://localhost:8080/"
        },
        "id": "9xS6e_-Q-K91",
        "outputId": "d470c8c6-0ccb-462a-9ff5-7ae863f350f8"
      },
      "outputs": [
        {
          "output_type": "stream",
          "name": "stdout",
          "text": [
            "\n",
            "OPÇÕES\n",
            "\n",
            "1- Adicionar um novo cliente.\n",
            "2 - Exibir clientes já registrados.\n",
            "3 - Sair\n",
            "\n",
            "Esolha uma opção: 1\n",
            "Nome: Daiane\n",
            "Idade: 34\n",
            "E-mail: daiane.dani16@hotmail.com\n",
            "\n",
            "OPÇÕES\n",
            "\n",
            "1- Adicionar um novo cliente.\n",
            "2 - Exibir clientes já registrados.\n",
            "3 - Sair\n",
            "\n",
            "Esolha uma opção: 2\n",
            "\n",
            "Clientes Registrados:\n",
            "\n",
            "Nome: Daiane\n",
            "Idade: 34\n",
            "E-mail: daiane.dani16@hotmail.com\n",
            "\n",
            "OPÇÕES\n",
            "\n",
            "1- Adicionar um novo cliente.\n",
            "2 - Exibir clientes já registrados.\n",
            "3 - Sair\n",
            "\n",
            "Esolha uma opção: 3\n",
            "\n",
            "Finalizado.\n",
            "\n"
          ]
        }
      ],
      "source": [
        "# Questão 3 - Registro de Clientes (Essa que foi a escolhida para ser entregue)\n",
        "#Adicionando uma lista\n",
        "dados_registro = []\n",
        "# função para receber os parametros (valores a serem usados quando for chamada)\n",
        "def adicionar_registro( ) :\n",
        "\n",
        " #Input para adicionar nome, idade, email.\n",
        "    nome = input( \"Nome: \")\n",
        "    idade = input( \"Idade: \")\n",
        "    email = input( \"E-mail: \")\n",
        "\n",
        "# Dicionario: para armazenar os dados do novo cliente, e retornar quando forem chamado)\n",
        "\n",
        "    registro = {\n",
        "          'nome':nome,\n",
        "          'idade': idade,\n",
        "          'email': email\n",
        "}\n",
        "\n",
        "#para adicionar ao registro um elemento no final da lista.\n",
        "    dados_registro.append(registro)\n",
        "\n",
        "#função para exibir os cliente que foram cadastrado no registro (quando for chamado)\n",
        "def exibir_registro():\n",
        "\n",
        "#imprimir os cliente registrado\n",
        "  print('\\nClientes Registrados:\\n')\n",
        "\n",
        "#inicio do loop em que tem interação com a lista \"dados_registro\"\n",
        "#com essa interação atribui cada elemento na variável 'usuario'\n",
        "  for clientes in dados_registro:\n",
        "\n",
        "# Para imprimir os dados atribuido na string, contendo o valor atribuido a chave 'nome' do dicionario usuário (porque todo elemento da lista dados_registro é usuario)\n",
        "    print(f\"Nome: {clientes['nome']}\")\n",
        "    print(f\"Idade: {clientes['idade']}\")\n",
        "    print(f\"E-mail: {clientes['email']}\")\n",
        "\n",
        "#Enquanto o laço for verdadeiro, continua em loop.\n",
        "while True:\n",
        "\n",
        "#Prints para o usuário escolher qual a opção que deseja escolher para que o programa execute.\n",
        "  print('\\nOPÇÕES\\n')\n",
        "  print('1- Adicionar um novo cliente.')\n",
        "  print('2 - Exibir clientes já registrados.')\n",
        "  print('3 - Sair')\n",
        "\n",
        "# Input para escolher as opção 1, 2 ou 3.\n",
        "  opcao = input('\\nEsolha uma opção: ')\n",
        "\n",
        "# estrutura de controle para que o usuário tenha opção de escolha e que seja executada de acordo com o que escolheu.\n",
        "  if opcao == '1':        #quando digitar 1, vai retornar a função adicionar_registro e usuario ira preencher os prints.\n",
        "    adicionar_registro()\n",
        "  elif opcao == '2':      #quando digitar 2, vai retornar a função exibir_registro e usuario vai ter acesso ao dicionario de cadastro na ordem que foi feito o cadastro.\n",
        "    exibir_registro()\n",
        "  elif opcao == '3':      #quando digitar 3, vai sair,  finaliza os cadastros.\n",
        "    print(\"\\nFinalizado.\\n\")\n",
        "    break                 #para interromper a execusão apos a opção sair.\n",
        "  else:\n",
        "       print('\\nEscolha uma opção válida!')   # caso escolha uma das opção fora do que foi pedido ao usuário."
      ]
    },
    {
      "cell_type": "markdown",
      "source": [
        "Questão 5 -\n",
        "* Permita ao usuário gerenciar uma lista de tarefas.\n",
        "* O programa deve oferecer as opções de adicionar uma nova tarefa\n",
        "* Listar todas as tarefas\n",
        "* Marcar uma tarefa como concluída."
      ],
      "metadata": {
        "id": "AZW-h1tJqRvX"
      }
    },
    {
      "cell_type": "code",
      "source": [
        "#Lista tarefas\n",
        "lista_tarefas = []\n",
        "\n",
        "#enquanto o laço for verdadeiro, pode ir adicionando itens na lista\n",
        "while True:\n",
        "\n",
        " #input para adicionar tarefas\n",
        "   tarefa = input('Adicione Item na Lista de Tarefas (para finalizar digite 0. ): ')\n",
        "\n",
        "#para tomar a decisão de parada ou para mostrar a lista de compras\n",
        "   if tarefa == '0':\n",
        "       print('Lista de tarefas finalizada\\n')\n",
        "       break\n",
        "   elif tarefa == '1':\n",
        "         print()\n",
        "\n",
        "#para ir adicionando tarefas na lista\n",
        "   lista_tarefas.append(tarefa)\n",
        "\n",
        "#Um Input para o usuário decidir se deseja exibir as tarefas depois de pronta\n",
        "mostrar = input('Caso queira exibir lista de tarefas, digite 1: ')\n",
        "print('Lista de tarefas: ')\n",
        "\n",
        "#para imprimir a lista de compras completa\n",
        "for tarefa in lista_tarefas:\n",
        "\n",
        "#chamando os itens pela chave.\n",
        "    print(f' - {tarefa}')\n",
        "\n",
        "#para marcar como tarefa concluida\n",
        "concluido = input('Se estiver concluído a tarefa, digite o nome da tarefa para marcar como concluida: ')\n",
        "\n",
        "#repeti o for, pois nele tem os dados das tarefas\n",
        "for tarefa in lista_tarefas:\n",
        "\n",
        " #if com os dados do input for igual os dados de tarefas, o sistema vai imprimir que a tarefa foi concluida\n",
        "  if  concluido == tarefa:\n",
        "      print(f'Tarefa Concluída:\\n {concluido}')\n",
        "  else:\n",
        "    print('Aguardando finalizar')"
      ],
      "metadata": {
        "colab": {
          "base_uri": "https://localhost:8080/"
        },
        "id": "edjOxMlFp8Hg",
        "outputId": "6f5ec291-d4f0-4caa-e7b9-bb028f710e40"
      },
      "execution_count": null,
      "outputs": [
        {
          "output_type": "stream",
          "name": "stdout",
          "text": [
            "Adicione Item na Lista de Tarefas (para finalizar digite 0. ): 1\n",
            "\n",
            "Adicione Item na Lista de Tarefas (para finalizar digite 0. ): cada\n",
            "Adicione Item na Lista de Tarefas (para finalizar digite 0. ): 0\n",
            "Lista de tarefas finalizada\n",
            "\n",
            "Caso queira exibir lista de tarefas, digite 1: 1\n",
            "Lista de tarefas: \n",
            " - 1\n",
            " - cada\n",
            "Se estiver concluído a tarefa, digite o nome da tarefa para marcar como concluida: 1\n",
            "Tarefa Concluída:\n",
            " 1\n",
            "Aguardando finalizar\n"
          ]
        }
      ]
    },
    {
      "cell_type": "markdown",
      "source": [
        "Enunciado da Questão 2:\n",
        " Um cliente deseja fazer uma lista de compras de supermercado. Um programa em Python que:\n",
        " *  Permita ao usuário adicionar itens à lista de compras\n",
        " *  Exiba todos os itens adicionados.\n"
      ],
      "metadata": {
        "id": "JEM4SW12qnK0"
      }
    },
    {
      "cell_type": "code",
      "source": [
        "#Lista de itens de compras\n",
        "lista_compras = []\n",
        "\n",
        "#enquanto o laço for verdaadeiro, pode ir adicionando itens da lista\n",
        "while True:\n",
        "\n",
        " #iput para adicionar itens na lista\n",
        "    itens = input('Adicione Item na Lista de compras (para finalizar digite 0. ): ')\n",
        "\n",
        "#para tomar a decisão de parada ou para ver a exibir a lista de compras\n",
        "    if itens == '0':\n",
        "       print('Lista Finalizada\\n')\n",
        "       break\n",
        "    elif itens == '1':\n",
        "     print()\n",
        "\n",
        "#para ir adicionando itens na lista\n",
        "    lista_compras.append(itens)\n",
        "\n",
        "#Um Input para o usuário decidir se deseja exibir a lista depois de pronta\n",
        "exibir = input('Caso queira exibir lista de compras digite 1: ')\n",
        "print('Lista de compras: ')\n",
        "\n",
        "#para imprimir a lista de compras completa\n",
        "for itens in lista_compras:\n",
        "\n",
        " #chamando os itens pela chave.\n",
        "    print(f' - {itens}')\n"
      ],
      "metadata": {
        "colab": {
          "base_uri": "https://localhost:8080/"
        },
        "id": "sQcVAfKlqlcl",
        "outputId": "871c2a5d-c37a-40db-a34b-dfd39fa20e84"
      },
      "execution_count": null,
      "outputs": [
        {
          "output_type": "stream",
          "name": "stdout",
          "text": [
            "Adicione Item na Lista de compras (para finalizar digite 0. ): feijao\n",
            "Adicione Item na Lista de compras (para finalizar digite 0. ): arroz\n",
            "Adicione Item na Lista de compras (para finalizar digite 0. ): 0\n",
            "Lista Finalizada\n",
            "\n",
            "Caso queira exibir lista de compras digite 1: 1\n",
            "Lista de compras: \n",
            " - feijao\n",
            " - arroz\n"
          ]
        }
      ]
    }
  ],
  "metadata": {
    "colab": {
      "provenance": [],
      "authorship_tag": "ABX9TyMaHOzVERL0qFKL0yjQ+KJy",
      "include_colab_link": true
    },
    "kernelspec": {
      "display_name": "Python 3",
      "name": "python3"
    },
    "language_info": {
      "name": "python"
    }
  },
  "nbformat": 4,
  "nbformat_minor": 0
}